{
 "cells": [
  {
   "cell_type": "code",
   "execution_count": 1,
   "metadata": {
    "colab": {
     "base_uri": "https://localhost:8080/"
    },
    "id": "DG49c89h3Bt3",
    "outputId": "8f4fc794-ca30-4ab9-8223-45aa42eb8615"
   },
   "outputs": [
    {
     "name": "stderr",
     "output_type": "stream",
     "text": [
      "/usr/local/lib/python3.12/site-packages/pydantic/_internal/_generate_schema.py:775: UserWarning: Mixing V1 models and V2 models (or constructs, like `TypeAdapter`) is not supported. Please upgrade `CrewAgentExecutor` to V2.\n",
      "  warn(\n"
     ]
    }
   ],
   "source": [
    "from crewai import Agent, Task, Crew, Process\n",
    "from langchain_anthropic import ChatAnthropic\n",
    "import json"
   ]
  },
  {
   "cell_type": "markdown",
   "metadata": {},
   "source": [
    "# Basic Process Flow:\n",
    "1. Define agents with specific roles\n",
    "2. Create tasks and assign to agents\n",
    "3. Add tasks to crew in desired order\n",
    "4. Execute crew to run all tasks\n",
    "\n",
    "# Notes:\n",
    "- Each agent should have a focused, specific role\n",
    "- Tasks should have clear input/output requirements\n",
    "- Use context parameter to chain dependent tasks\n",
    "- Sequential process ensures tasks run in order"
   ]
  },
  {
   "cell_type": "code",
   "execution_count": 2,
   "metadata": {},
   "outputs": [],
   "source": [
    "from workshop_genai_student.llm_model import get_llm_model\n",
    "llm_model = get_llm_model()"
   ]
  },
  {
   "cell_type": "code",
   "execution_count": 3,
   "metadata": {
    "id": "lTN09iY95GNR"
   },
   "outputs": [],
   "source": [
    "# Basic Agent Structure\n",
    "agent_name = Agent(\n",
    "   role='[Add role/title here]',  # What this agent specializes in\n",
    "   goal='[Add primary goal here]', # What this agent aims to achieve\n",
    "   backstory='[Add relevant experience/background here]', # Skills and expertise\n",
    "   verbose=True,  # Keep logging enabled\n",
    "   allow_delegation=False, # Whether agent can delegate tasks\n",
    "   llm=llm_model # Language model to use\n",
    ")\n",
    "\n",
    "# Task Structure \n",
    "task_name = Task(\n",
    "   description='''[Add detailed task description here, including:\n",
    "   - What needs to be analyzed/created\n",
    "   - Specific requirements\n",
    "   - Any special formatting needed]''',\n",
    "   agent=agent_name,  # Which agent handles this task\n",
    "   expected_output='''[Describe expected output format/content]'''\n",
    ")\n",
    "\n",
    "# Crew Structure (for managing multiple agents)\n",
    "crew = Crew(\n",
    "   agents=[agent_name],  # List all agents\n",
    "   tasks=[task_name],     # List all tasks in order\n",
    "   verbose=True,                # Logging level (0-2)\n",
    "   process=Process.sequential # Tasks run in sequence\n",
    ")\n",
    "\n"
   ]
  },
  {
   "cell_type": "code",
   "execution_count": 6,
   "metadata": {},
   "outputs": [],
   "source": [
    "from workshop_genai_student.submission_client import submit_crew_response"
   ]
  },
  {
   "cell_type": "code",
   "execution_count": 11,
   "metadata": {},
   "outputs": [
    {
     "name": "stdout",
     "output_type": "stream",
     "text": [
      "\u001b[1m\u001b[95m [DEBUG]: == Working Agent: [Add role/title here]\u001b[00m\n",
      "\u001b[1m\u001b[95m [INFO]: == Starting Task: [Add detailed task description here, including:\n",
      "   - What needs to be analyzed/created\n",
      "   - Specific requirements\n",
      "   - Any special formatting needed]\u001b[00m\n",
      "\n",
      "\n",
      "\u001b[1m> Entering new CrewAgentExecutor chain...\u001b[0m\n",
      "\u001b[32;1m\u001b[1;3m\u001b[0m\u001b[32;1m\u001b[1;3mThought: I now can give a great answer\n",
      "Final Answer: As an AI assistant without specific details about the task, I do not have enough context to provide a complete final answer that satisfies the expected criteria. Please provide the detailed task description, including what needs to be analyzed or created, any specific requirements, and the expected output format or content. Once I have those details, I will be able to give my best effort in formulating a relevant and comprehensive final answer to the task using the prescribed format. My role is to provide helpful information to you, so having clarity on the task is crucial for me to succeed.\u001b[0m\n",
      "\n",
      "\u001b[1m> Finished chain.\u001b[0m\n",
      "\u001b[1m\u001b[92m [DEBUG]: == [[Add role/title here]] Task output: As an AI assistant without specific details about the task, I do not have enough context to provide a complete final answer that satisfies the expected criteria. Please provide the detailed task description, including what needs to be analyzed or created, any specific requirements, and the expected output format or content. Once I have those details, I will be able to give my best effort in formulating a relevant and comprehensive final answer to the task using the prescribed format. My role is to provide helpful information to you, so having clarity on the task is crucial for me to succeed.\n",
      "\n",
      "\u001b[00m\n"
     ]
    }
   ],
   "source": [
    "# Submit crew response\n",
    "result = submit_crew_response(\n",
    "    crew=crew,\n",
    "    team_name=\"team_iota\",\n",
    "    password=\"password123!\"\n",
    ")"
   ]
  },
  {
   "cell_type": "code",
   "execution_count": 12,
   "metadata": {},
   "outputs": [
    {
     "data": {
      "text/plain": [
       "{'status': 'success', 'data': {'submission_id': 4, 'status': 'pending'}}"
      ]
     },
     "execution_count": 12,
     "metadata": {},
     "output_type": "execute_result"
    }
   ],
   "source": [
    "result"
   ]
  },
  {
   "cell_type": "code",
   "execution_count": null,
   "metadata": {},
   "outputs": [],
   "source": []
  }
 ],
 "metadata": {
  "colab": {
   "provenance": []
  },
  "kernelspec": {
   "display_name": "Python 3 (ipykernel)",
   "language": "python",
   "name": "python3"
  },
  "language_info": {
   "codemirror_mode": {
    "name": "ipython",
    "version": 3
   },
   "file_extension": ".py",
   "mimetype": "text/x-python",
   "name": "python",
   "nbconvert_exporter": "python",
   "pygments_lexer": "ipython3",
   "version": "3.12.0"
  }
 },
 "nbformat": 4,
 "nbformat_minor": 4
}
